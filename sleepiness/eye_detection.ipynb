{
 "cells": [
  {
   "cell_type": "markdown",
   "id": "0f932645-3934-40e5-9cf1-e8be005707e7",
   "metadata": {},
   "source": [
    "# Eye Drowsiness Detection"
   ]
  },
  {
   "cell_type": "markdown",
   "id": "d95e4f9e-dffa-4c75-9edb-db79225cea49",
   "metadata": {},
   "source": [
    "### Opis podatkov s strani kaggle:\n",
    "This dataset is a forked version of the original MRL Eye Dataset, containing infrared eye images categorized into Awake and Sleepy states. It is split into training, validation, and test sets, comprising over 85,000 images captured under various lighting conditions using multiple sensors. This dataset is tailored for tasks such as eye detection, gaze estimation, blink detection, and drowsiness analysis in computer vision."
   ]
  },
  {
   "cell_type": "markdown",
   "id": "083c1b64-ff97-4474-8a3c-affd16084e5f",
   "metadata": {},
   "source": [
    "## Importi in uporaba GPU"
   ]
  },
  {
   "cell_type": "code",
   "execution_count": 1,
   "id": "bd088ef1-9d4a-4bd5-89a2-7fd7bc9c147a",
   "metadata": {},
   "outputs": [],
   "source": [
    "import torch\n",
    "import torch.nn as nn\n",
    "import torch.nn.functional as F\n",
    "import torch.optim as optim\n",
    "\n",
    "import torchvision\n",
    "\n",
    "import numpy as np\n",
    "from PIL import Image\n",
    "\n",
    "from torchvision import datasets, transforms\n",
    "from torch.utils.data import DataLoader"
   ]
  },
  {
   "cell_type": "code",
   "execution_count": 2,
   "id": "ffead0cb-7897-4b0e-8a23-2fe851169652",
   "metadata": {},
   "outputs": [
    {
     "data": {
      "text/plain": [
       "'2.5.1+cu124'"
      ]
     },
     "execution_count": 2,
     "metadata": {},
     "output_type": "execute_result"
    }
   ],
   "source": [
    "torch.__version__"
   ]
  },
  {
   "cell_type": "code",
   "execution_count": 6,
   "id": "6d69761a-994b-49e5-bf33-412e095d550f",
   "metadata": {},
   "outputs": [
    {
     "name": "stdout",
     "output_type": "stream",
     "text": [
      "Number of GPU:  1\n",
      "GPU name:  NVIDIA GeForce MX350\n",
      "Using device:  cuda\n"
     ]
    }
   ],
   "source": [
    "print(\"Number of GPU: \", torch.cuda.device_count())\n",
    "print(\"GPU name: \", torch.cuda.get_device_name())\n",
    "\n",
    "device = torch.device('cuda' if torch.cuda.is_available() else 'cpu')\n",
    "print(\"Using device: \", device)"
   ]
  },
  {
   "cell_type": "markdown",
   "id": "591e584a-0061-4ee3-9bdd-e293b8a87f72",
   "metadata": {},
   "source": [
    "## Nalaganje podatkov in transformacije - augmentacije"
   ]
  },
  {
   "cell_type": "code",
   "execution_count": 3,
   "id": "69f168e9-ae6d-4736-a53c-bc40ba9ab4e2",
   "metadata": {},
   "outputs": [
    {
     "name": "stdout",
     "output_type": "stream",
     "text": [
      "['awake', 'sleepy']\n",
      "{'awake': 0, 'sleepy': 1}\n"
     ]
    }
   ],
   "source": [
    "# Define transformations for the images\n",
    "transform = transforms.Compose([\n",
    "    transforms.Resize((32, 32)),\n",
    "    transforms.RandomHorizontalFlip(),\n",
    "    transforms.RandomRotation(15),\n",
    "    transforms.ColorJitter(brightness=0.2, contrast=0.2, saturation=0.2),\n",
    "    transforms.ToTensor(),\n",
    "    transforms.Normalize((0.5, 0.5, 0.5), (0.5, 0.5, 0.5))\n",
    "])\n",
    "\n",
    "# Load training data\n",
    "train_dataset = datasets.ImageFolder(root='data/train', transform=transform)\n",
    "\n",
    "# Load validation data\n",
    "val_dataset = datasets.ImageFolder(root='data/val', transform=transform)\n",
    "\n",
    "# Create DataLoaders\n",
    "train_loader = DataLoader(train_dataset, batch_size=32, shuffle=True)\n",
    "val_loader = DataLoader(val_dataset, batch_size=32, shuffle=False)\n",
    "\n",
    "# Print class labels to verify\n",
    "print(train_dataset.classes)  # ['awake', 'sleepy']\n",
    "print(train_dataset.class_to_idx)  # {'awake': 0, 'sleepy': 1}"
   ]
  },
  {
   "cell_type": "code",
   "execution_count": 7,
   "id": "10da85bc-c7e1-49af-9ba8-8c7fcb242b66",
   "metadata": {},
   "outputs": [
    {
     "data": {
      "text/plain": [
       "1"
      ]
     },
     "execution_count": 7,
     "metadata": {},
     "output_type": "execute_result"
    }
   ],
   "source": [
    "image, label = train_dataset[30000]\n",
    "label"
   ]
  },
  {
   "cell_type": "markdown",
   "id": "169188af-b739-497d-a16a-5e2cd5b06ef2",
   "metadata": {},
   "source": [
    "## Definiranje in učenje modela"
   ]
  },
  {
   "cell_type": "code",
   "execution_count": 3,
   "id": "5f42c642-9e0e-4895-91d1-49c595fcec0b",
   "metadata": {},
   "outputs": [],
   "source": [
    "class EnhancedModel(nn.Module):\n",
    "    def __init__(self, num_classes):\n",
    "        super(EnhancedModel, self).__init__()\n",
    "        self.conv1 = nn.Conv2d(3, 32, kernel_size=3, padding=1) #self.conv1 = nn.Conv2d(1, 32, kernel_size=3, padding=1)  lahko probas ker so grayscale slike\n",
    "        self.bn1 = nn.BatchNorm2d(32)\n",
    "        self.pool1 = nn.MaxPool2d(2, 2)\n",
    "        \n",
    "        self.conv2 = nn.Conv2d(32, 64, kernel_size=3, padding=1)\n",
    "        self.bn2 = nn.BatchNorm2d(64)\n",
    "        self.pool2 = nn.MaxPool2d(2, 2)\n",
    "        \n",
    "        self.conv3 = nn.Conv2d(64, 128, kernel_size=3, padding=1)\n",
    "        self.bn3 = nn.BatchNorm2d(128)\n",
    "        self.pool3 = nn.MaxPool2d(2, 2)\n",
    "        \n",
    "        self.fc1 = nn.Linear(128 * 4 * 4, 256)\n",
    "        self.fc2 = nn.Linear(256, num_classes)\n",
    "        self.dropout = nn.Dropout(0.5)\n",
    "\n",
    "    def forward(self, x):\n",
    "        x = self.pool1(F.relu(self.bn1(self.conv1(x))))\n",
    "        x = self.pool2(F.relu(self.bn2(self.conv2(x))))\n",
    "        x = self.pool3(F.relu(self.bn3(self.conv3(x))))\n",
    "        \n",
    "        x = torch.flatten(x, 1)\n",
    "        x = F.relu(self.fc1(x))\n",
    "        x = self.dropout(x)\n",
    "        x = self.fc2(x)\n",
    "        return x\n"
   ]
  },
  {
   "cell_type": "code",
   "execution_count": 7,
   "id": "1e88cf11-c143-45bc-9555-54006852794e",
   "metadata": {},
   "outputs": [
    {
     "name": "stdout",
     "output_type": "stream",
     "text": [
      "EnhancedModel(\n",
      "  (conv1): Conv2d(3, 32, kernel_size=(3, 3), stride=(1, 1), padding=(1, 1))\n",
      "  (bn1): BatchNorm2d(32, eps=1e-05, momentum=0.1, affine=True, track_running_stats=True)\n",
      "  (pool1): MaxPool2d(kernel_size=2, stride=2, padding=0, dilation=1, ceil_mode=False)\n",
      "  (conv2): Conv2d(32, 64, kernel_size=(3, 3), stride=(1, 1), padding=(1, 1))\n",
      "  (bn2): BatchNorm2d(64, eps=1e-05, momentum=0.1, affine=True, track_running_stats=True)\n",
      "  (pool2): MaxPool2d(kernel_size=2, stride=2, padding=0, dilation=1, ceil_mode=False)\n",
      "  (conv3): Conv2d(64, 128, kernel_size=(3, 3), stride=(1, 1), padding=(1, 1))\n",
      "  (bn3): BatchNorm2d(128, eps=1e-05, momentum=0.1, affine=True, track_running_stats=True)\n",
      "  (pool3): MaxPool2d(kernel_size=2, stride=2, padding=0, dilation=1, ceil_mode=False)\n",
      "  (fc1): Linear(in_features=2048, out_features=256, bias=True)\n",
      "  (fc2): Linear(in_features=256, out_features=2, bias=True)\n",
      "  (dropout): Dropout(p=0.5, inplace=False)\n",
      ")\n"
     ]
    }
   ],
   "source": [
    "#Uporabim Enhanced model\n",
    "num_classes = 2 \n",
    "model = EnhancedModel(num_classes)\n",
    "model = model.to(device)\n",
    "loss_function = nn.CrossEntropyLoss()\n",
    "optimizer = torch.optim.Adam(model.parameters(), lr=0.001)\n",
    "\n",
    "print(model)"
   ]
  },
  {
   "cell_type": "markdown",
   "id": "ad9a3199-0803-41d2-89f8-9fcb8f5f60aa",
   "metadata": {},
   "source": [
    "**Učenje nad 4-imi epochi, zaradi velike časovne zahtevnosti (50000 slik):**"
   ]
  },
  {
   "cell_type": "code",
   "execution_count": 14,
   "id": "382b83d6-334e-4e56-b80f-3b0912927858",
   "metadata": {},
   "outputs": [
    {
     "name": "stdout",
     "output_type": "stream",
     "text": [
      "Training epoch 0...\n",
      "Using device:  cuda\n",
      "Loss: 0.1500\n",
      "Training epoch 1...\n",
      "Using device:  cuda\n",
      "Loss: 0.0904\n",
      "Training epoch 2...\n",
      "Using device:  cuda\n",
      "Loss: 0.0754\n",
      "Training epoch 3...\n",
      "Using device:  cuda\n",
      "Loss: 0.0660\n"
     ]
    }
   ],
   "source": [
    "for epoch in range(4):\n",
    "    print(f'Training epoch {epoch}...')\n",
    "    device = torch.device('cuda' if torch.cuda.is_available() else 'cpu')\n",
    "    print(\"Using device: \", device)\n",
    "\n",
    "    running_loss = 0.0\n",
    "\n",
    "    for i, data in enumerate(train_loader):\n",
    "        inputs, labels = data\n",
    "        inputs, labels = inputs.to(device), labels.to(device)\n",
    "        optimizer.zero_grad()\n",
    "\n",
    "        outputs = model(inputs)\n",
    "\n",
    "        loss = loss_function(outputs, labels)\n",
    "        loss.backward()\n",
    "        optimizer.step()\n",
    "\n",
    "        running_loss += loss.item()\n",
    "\n",
    "    print(f'Loss: {running_loss / len(train_loader):.4f}')"
   ]
  },
  {
   "cell_type": "markdown",
   "id": "dbb00944-0976-46a5-bdea-27e8990d7789",
   "metadata": {},
   "source": [
    "## Shranjevanje modela"
   ]
  },
  {
   "cell_type": "code",
   "execution_count": 15,
   "id": "c6e6c3c4-45fe-46c8-9046-dc4b63b36e1f",
   "metadata": {},
   "outputs": [],
   "source": [
    "# TA MODEL JE KASNEJE (OB ODDAJI) BIL PREIMENOVAN V EYE_DETECTION_MODEL\n",
    "torch.save(model.state_dict(), 'trained_Model_1.pth')"
   ]
  },
  {
   "cell_type": "markdown",
   "id": "f0531aed-d9a5-4fdf-a5fa-84fbcf2eeda2",
   "metadata": {},
   "source": [
    "## Ponovno nalaganje modela"
   ]
  },
  {
   "cell_type": "code",
   "execution_count": 8,
   "id": "c6e153a9-00cc-4c1f-9bd1-716e7cb8c52a",
   "metadata": {},
   "outputs": [
    {
     "name": "stderr",
     "output_type": "stream",
     "text": [
      "C:\\Users\\Uporabnik\\AppData\\Local\\Temp\\ipykernel_17644\\535920005.py:2: FutureWarning: You are using `torch.load` with `weights_only=False` (the current default value), which uses the default pickle module implicitly. It is possible to construct malicious pickle data which will execute arbitrary code during unpickling (See https://github.com/pytorch/pytorch/blob/main/SECURITY.md#untrusted-models for more details). In a future release, the default value for `weights_only` will be flipped to `True`. This limits the functions that could be executed during unpickling. Arbitrary objects will no longer be allowed to be loaded via this mode unless they are explicitly allowlisted by the user via `torch.serialization.add_safe_globals`. We recommend you start setting `weights_only=True` for any use case where you don't have full control of the loaded file. Please open an issue on GitHub for any issues related to this experimental feature.\n",
      "  net.load_state_dict(torch.load('trained_Model_1.pth'))\n"
     ]
    },
    {
     "data": {
      "text/plain": [
       "<All keys matched successfully>"
      ]
     },
     "execution_count": 8,
     "metadata": {},
     "output_type": "execute_result"
    }
   ],
   "source": [
    "net = EnhancedModel(num_classes)\n",
    "net.load_state_dict(torch.load('trained_Model_1.pth'))"
   ]
  },
  {
   "cell_type": "markdown",
   "id": "7f050566-7885-4182-8ad3-ae31c4a5d9e9",
   "metadata": {},
   "source": [
    "## Preverjanje natančnosti"
   ]
  },
  {
   "cell_type": "code",
   "execution_count": 17,
   "id": "cce9ce7f-a8f6-4fe2-b05f-56589e2c3cc4",
   "metadata": {},
   "outputs": [
    {
     "name": "stdout",
     "output_type": "stream",
     "text": [
      "Accuracy: 97.97997644287398%\n"
     ]
    }
   ],
   "source": [
    "correct = 0\n",
    "total = 0\n",
    "\n",
    "net.eval()\n",
    "\n",
    "with torch.no_grad():\n",
    "    for data in val_loader:\n",
    "        images, labels = data\n",
    "        outputs = net(images)\n",
    "        _, predicted = torch.max(outputs, 1)\n",
    "        total += labels.size(0)\n",
    "        correct += (predicted == labels).sum().item()\n",
    "\n",
    "accuracy = (100 * correct) / total\n",
    "\n",
    "print(f'Accuracy: {accuracy}%')"
   ]
  },
  {
   "cell_type": "markdown",
   "id": "416c55fd-e6f9-4a2e-bcba-9f31510f7eaa",
   "metadata": {},
   "source": [
    "**Končna natančnost: 97,97%**"
   ]
  },
  {
   "cell_type": "markdown",
   "id": "c645d35f-b992-4e0a-9d3d-be7c2ca2f41b",
   "metadata": {},
   "source": [
    "## Dodatno testiranje\n",
    "Ob pregledu kode sem opazil, da sem pri nalaganju podatkov nad val_dataset izvedel iste transformacije (in augmentacije) kot nad train_dataset. Zato sem nato nad testno množico izvedel le nujne transformacije, da lahko model primerno deluje: Resize, ToTensor in normalizacija, katera se je izkazala za nujno, saj je brez nje model dosegel le 54% natančnost, z njo pa 98%."
   ]
  },
  {
   "cell_type": "code",
   "execution_count": 18,
   "id": "c9a6ce02-4364-4f1c-b5e0-fcdb68790e1d",
   "metadata": {},
   "outputs": [],
   "source": [
    "test_transform = transforms.Compose([\n",
    "    transforms.Resize((32, 32)),\n",
    "    transforms.ToTensor(),\n",
    "    transforms.Normalize((0.5, 0.5, 0.5), (0.5, 0.5, 0.5))\n",
    "])\n",
    "test_dataset = datasets.ImageFolder(root='data/test', transform=test_transform)\n",
    "test_loader = DataLoader(test_dataset, batch_size=32, shuffle=False)"
   ]
  },
  {
   "cell_type": "code",
   "execution_count": 19,
   "id": "6eae1e98-be1a-4d17-aef9-13c9192fdc29",
   "metadata": {},
   "outputs": [
    {
     "name": "stdout",
     "output_type": "stream",
     "text": [
      "Accuracy: 98.44532124138743%\n"
     ]
    }
   ],
   "source": [
    "correct = 0\n",
    "total = 0\n",
    "\n",
    "net.eval()\n",
    "\n",
    "with torch.no_grad():\n",
    "    for data in test_loader:\n",
    "        images, labels = data\n",
    "        outputs = net(images)\n",
    "        _, predicted = torch.max(outputs, 1)\n",
    "        total += labels.size(0)\n",
    "        correct += (predicted == labels).sum().item()\n",
    "\n",
    "accuracy = (100 * correct) / total\n",
    "\n",
    "print(f'Accuracy: {accuracy}%')"
   ]
  },
  {
   "cell_type": "markdown",
   "id": "79c2dd96-a759-4958-925e-318e897c58e2",
   "metadata": {},
   "source": [
    "### Končna natančnost\n",
    "98,4%"
   ]
  }
 ],
 "metadata": {
  "kernelspec": {
   "display_name": "URVRV",
   "language": "python",
   "name": "urvrv"
  },
  "language_info": {
   "codemirror_mode": {
    "name": "ipython",
    "version": 3
   },
   "file_extension": ".py",
   "mimetype": "text/x-python",
   "name": "python",
   "nbconvert_exporter": "python",
   "pygments_lexer": "ipython3",
   "version": "3.12.7"
  }
 },
 "nbformat": 4,
 "nbformat_minor": 5
}
